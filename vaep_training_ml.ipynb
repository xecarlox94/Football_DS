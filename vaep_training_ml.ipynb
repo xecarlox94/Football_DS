{
 "metadata": {
  "language_info": {
   "codemirror_mode": {
    "name": "ipython",
    "version": 3
   },
   "file_extension": ".py",
   "mimetype": "text/x-python",
   "name": "python",
   "nbconvert_exporter": "python",
   "pygments_lexer": "ipython3",
   "version": "3.8.3-final"
  },
  "orig_nbformat": 2,
  "kernelspec": {
   "name": "python38364bit88793c7347b34f2aaf15ee9ecb7c5f7a",
   "display_name": "Python 3.8.3 64-bit"
  }
 },
 "nbformat": 4,
 "nbformat_minor": 2,
 "cells": [
  {
   "cell_type": "code",
   "execution_count": 16,
   "metadata": {},
   "outputs": [],
   "source": [
    "import pandas as pd\n",
    "import numpy as np\n",
    "from tqdm.notebook import tqdm\n",
    "import matplotlib.pyplot as plt\n",
    "\n",
    "%matplotlib inline"
   ]
  },
  {
   "cell_type": "code",
   "execution_count": 17,
   "metadata": {},
   "outputs": [],
   "source": [
    "from xgboost import XGBClassifier\n",
    "from sklearn.metrics import brier_score_loss, roc_auc_score\n",
    "from sklearn.model_selection import train_test_split, GridSearchCV\n",
    "from sklearn.calibration import CalibratedClassifierCV\n",
    "from scikitplot.metrics import plot_calibration_curve"
   ]
  },
  {
   "cell_type": "code",
   "execution_count": 18,
   "metadata": {},
   "outputs": [],
   "source": [
    "import warnings\n",
    "warnings.filterwarnings('ignore', category=pd.io.pytables.PerformanceWarning)"
   ]
  },
  {
   "cell_type": "code",
   "execution_count": 19,
   "metadata": {},
   "outputs": [],
   "source": [
    "import os\n",
    "data_dir = os.getcwd() + '/data/wy_scout/'"
   ]
  },
  {
   "cell_type": "code",
   "execution_count": 20,
   "metadata": {},
   "outputs": [
    {
     "output_type": "execute_result",
     "data": {
      "text/plain": "    game_id  competition_id  season_id            game_date  home_team_id  \\\n54  2057984              28      10078  2018-06-17 15:00:00          3148   \n55  2057979              28      10078  2018-06-17 12:00:00         16871   \n56  2057973              28      10078  2018-06-16 19:00:00          9598   \n57  2057967              28      10078  2018-06-16 16:00:00         15594   \n58  2057972              28      10078  2018-06-16 13:00:00         12274   \n59  2057966              28      10078  2018-06-16 10:00:00          4418   \n60  2057960              28      10078  2018-06-15 18:00:00          9905   \n61  2057961              28      10078  2018-06-15 15:00:00         16216   \n62  2057955              28      10078  2018-06-15 12:00:00         16129   \n63  2057954              28      10078  2018-06-14 15:00:00         14358   \n\n    away_team_id  \n54         15473  \n55         17322  \n56         16823  \n57          7712  \n58          7839  \n59          8493  \n60          1598  \n61         10840  \n62         15670  \n63         16521  ",
      "text/html": "<div>\n<style scoped>\n    .dataframe tbody tr th:only-of-type {\n        vertical-align: middle;\n    }\n\n    .dataframe tbody tr th {\n        vertical-align: top;\n    }\n\n    .dataframe thead th {\n        text-align: right;\n    }\n</style>\n<table border=\"1\" class=\"dataframe\">\n  <thead>\n    <tr style=\"text-align: right;\">\n      <th></th>\n      <th>game_id</th>\n      <th>competition_id</th>\n      <th>season_id</th>\n      <th>game_date</th>\n      <th>home_team_id</th>\n      <th>away_team_id</th>\n    </tr>\n  </thead>\n  <tbody>\n    <tr>\n      <th>54</th>\n      <td>2057984</td>\n      <td>28</td>\n      <td>10078</td>\n      <td>2018-06-17 15:00:00</td>\n      <td>3148</td>\n      <td>15473</td>\n    </tr>\n    <tr>\n      <th>55</th>\n      <td>2057979</td>\n      <td>28</td>\n      <td>10078</td>\n      <td>2018-06-17 12:00:00</td>\n      <td>16871</td>\n      <td>17322</td>\n    </tr>\n    <tr>\n      <th>56</th>\n      <td>2057973</td>\n      <td>28</td>\n      <td>10078</td>\n      <td>2018-06-16 19:00:00</td>\n      <td>9598</td>\n      <td>16823</td>\n    </tr>\n    <tr>\n      <th>57</th>\n      <td>2057967</td>\n      <td>28</td>\n      <td>10078</td>\n      <td>2018-06-16 16:00:00</td>\n      <td>15594</td>\n      <td>7712</td>\n    </tr>\n    <tr>\n      <th>58</th>\n      <td>2057972</td>\n      <td>28</td>\n      <td>10078</td>\n      <td>2018-06-16 13:00:00</td>\n      <td>12274</td>\n      <td>7839</td>\n    </tr>\n    <tr>\n      <th>59</th>\n      <td>2057966</td>\n      <td>28</td>\n      <td>10078</td>\n      <td>2018-06-16 10:00:00</td>\n      <td>4418</td>\n      <td>8493</td>\n    </tr>\n    <tr>\n      <th>60</th>\n      <td>2057960</td>\n      <td>28</td>\n      <td>10078</td>\n      <td>2018-06-15 18:00:00</td>\n      <td>9905</td>\n      <td>1598</td>\n    </tr>\n    <tr>\n      <th>61</th>\n      <td>2057961</td>\n      <td>28</td>\n      <td>10078</td>\n      <td>2018-06-15 15:00:00</td>\n      <td>16216</td>\n      <td>10840</td>\n    </tr>\n    <tr>\n      <th>62</th>\n      <td>2057955</td>\n      <td>28</td>\n      <td>10078</td>\n      <td>2018-06-15 12:00:00</td>\n      <td>16129</td>\n      <td>15670</td>\n    </tr>\n    <tr>\n      <th>63</th>\n      <td>2057954</td>\n      <td>28</td>\n      <td>10078</td>\n      <td>2018-06-14 15:00:00</td>\n      <td>14358</td>\n      <td>16521</td>\n    </tr>\n  </tbody>\n</table>\n</div>"
     },
     "metadata": {},
     "execution_count": 20
    }
   ],
   "source": [
    "df_games = pd.read_hdf(data_dir + 'spadl.h5', 'games')\n",
    "df_games.tail(10)"
   ]
  },
  {
   "cell_type": "code",
   "execution_count": 21,
   "metadata": {
    "tags": []
   },
   "outputs": [
    {
     "output_type": "display_data",
     "data": {
      "text/plain": "HBox(children=(FloatProgress(value=0.0, max=64.0), HTML(value='')))",
      "application/vnd.jupyter.widget-view+json": {
       "version_major": 2,
       "version_minor": 0,
       "model_id": "2d4140a45dad40eb87556641a0097592"
      }
     },
     "metadata": {}
    },
    {
     "output_type": "stream",
     "name": "stdout",
     "text": "\n"
    },
    {
     "output_type": "error",
     "ename": "FileNotFoundError",
     "evalue": "File features.h5 does not exist",
     "traceback": [
      "\u001b[1;31m---------------------------------------------------------------------------\u001b[0m",
      "\u001b[1;31mFileNotFoundError\u001b[0m                         Traceback (most recent call last)",
      "\u001b[1;32m<ipython-input-21-679d235d8127>\u001b[0m in \u001b[0;36m<module>\u001b[1;34m\u001b[0m\n\u001b[0;32m      2\u001b[0m \u001b[1;32mfor\u001b[0m \u001b[0m_\u001b[0m\u001b[1;33m,\u001b[0m \u001b[0mgame\u001b[0m \u001b[1;32min\u001b[0m \u001b[0mtqdm\u001b[0m\u001b[1;33m(\u001b[0m\u001b[0mdf_games\u001b[0m\u001b[1;33m.\u001b[0m\u001b[0miterrows\u001b[0m\u001b[1;33m(\u001b[0m\u001b[1;33m)\u001b[0m\u001b[1;33m,\u001b[0m \u001b[0mtotal\u001b[0m\u001b[1;33m=\u001b[0m\u001b[0mlen\u001b[0m\u001b[1;33m(\u001b[0m\u001b[0mdf_games\u001b[0m\u001b[1;33m)\u001b[0m\u001b[1;33m)\u001b[0m\u001b[1;33m:\u001b[0m\u001b[1;33m\u001b[0m\u001b[1;33m\u001b[0m\u001b[0m\n\u001b[0;32m      3\u001b[0m     \u001b[0mgame_id\u001b[0m \u001b[1;33m=\u001b[0m \u001b[0mgame\u001b[0m\u001b[1;33m[\u001b[0m\u001b[1;34m'game_id'\u001b[0m\u001b[1;33m]\u001b[0m\u001b[1;33m\u001b[0m\u001b[1;33m\u001b[0m\u001b[0m\n\u001b[1;32m----> 4\u001b[1;33m     \u001b[0mdf_features\u001b[0m \u001b[1;33m=\u001b[0m \u001b[0mpd\u001b[0m\u001b[1;33m.\u001b[0m\u001b[0mread_hdf\u001b[0m\u001b[1;33m(\u001b[0m\u001b[1;34m'features.h5'\u001b[0m\u001b[1;33m,\u001b[0m \u001b[0mkey\u001b[0m\u001b[1;33m=\u001b[0m\u001b[1;34mf'game_{game_id}'\u001b[0m\u001b[1;33m)\u001b[0m\u001b[1;33m\u001b[0m\u001b[1;33m\u001b[0m\u001b[0m\n\u001b[0m\u001b[0;32m      5\u001b[0m     \u001b[0mdf_features\u001b[0m\u001b[1;33m[\u001b[0m\u001b[1;34m'game_id'\u001b[0m\u001b[1;33m]\u001b[0m \u001b[1;33m=\u001b[0m \u001b[0mgame_id\u001b[0m\u001b[1;33m\u001b[0m\u001b[1;33m\u001b[0m\u001b[0m\n\u001b[0;32m      6\u001b[0m     \u001b[0mdfs_features\u001b[0m\u001b[1;33m.\u001b[0m\u001b[0mappend\u001b[0m\u001b[1;33m(\u001b[0m\u001b[0mdf_features\u001b[0m\u001b[1;33m)\u001b[0m\u001b[1;33m\u001b[0m\u001b[1;33m\u001b[0m\u001b[0m\n",
      "\u001b[1;32m~\\AppData\\Local\\Programs\\Python\\Python38\\lib\\site-packages\\pandas\\io\\pytables.py\u001b[0m in \u001b[0;36mread_hdf\u001b[1;34m(path_or_buf, key, mode, errors, where, start, stop, columns, iterator, chunksize, **kwargs)\u001b[0m\n\u001b[0;32m    393\u001b[0m \u001b[1;33m\u001b[0m\u001b[0m\n\u001b[0;32m    394\u001b[0m         \u001b[1;32mif\u001b[0m \u001b[1;32mnot\u001b[0m \u001b[0mexists\u001b[0m\u001b[1;33m:\u001b[0m\u001b[1;33m\u001b[0m\u001b[1;33m\u001b[0m\u001b[0m\n\u001b[1;32m--> 395\u001b[1;33m             \u001b[1;32mraise\u001b[0m \u001b[0mFileNotFoundError\u001b[0m\u001b[1;33m(\u001b[0m\u001b[1;34mf\"File {path_or_buf} does not exist\"\u001b[0m\u001b[1;33m)\u001b[0m\u001b[1;33m\u001b[0m\u001b[1;33m\u001b[0m\u001b[0m\n\u001b[0m\u001b[0;32m    396\u001b[0m \u001b[1;33m\u001b[0m\u001b[0m\n\u001b[0;32m    397\u001b[0m         \u001b[0mstore\u001b[0m \u001b[1;33m=\u001b[0m \u001b[0mHDFStore\u001b[0m\u001b[1;33m(\u001b[0m\u001b[0mpath_or_buf\u001b[0m\u001b[1;33m,\u001b[0m \u001b[0mmode\u001b[0m\u001b[1;33m=\u001b[0m\u001b[0mmode\u001b[0m\u001b[1;33m,\u001b[0m \u001b[0merrors\u001b[0m\u001b[1;33m=\u001b[0m\u001b[0merrors\u001b[0m\u001b[1;33m,\u001b[0m \u001b[1;33m**\u001b[0m\u001b[0mkwargs\u001b[0m\u001b[1;33m)\u001b[0m\u001b[1;33m\u001b[0m\u001b[1;33m\u001b[0m\u001b[0m\n",
      "\u001b[1;31mFileNotFoundError\u001b[0m: File features.h5 does not exist"
     ]
    }
   ],
   "source": [
    "dfs_features = []\n",
    "for _, game in tqdm(df_games.iterrows(), total=len(df_games)):\n",
    "    game_id = game['game_id']\n",
    "    df_features = pd.read_hdf(data_dir + 'features.h5', key=f'game_{game_id}')\n",
    "    df_features['game_id'] = game_id\n",
    "    dfs_features.append(df_features)\n",
    "df_features = pd.concat(dfs_features).reset_index(drop=True)\n",
    "df_features.tail(10)"
   ]
  },
  {
   "cell_type": "code",
   "execution_count": 22,
   "metadata": {},
   "outputs": [
    {
     "output_type": "execute_result",
     "data": {
      "text/plain": "\"\\nfor _, game in tqdm(df_games.iterrows(), total=len(df_games)):\\n    game_id = game['game_id']\\n    df_labels = pd.read_hdf()\\n\""
     },
     "metadata": {},
     "execution_count": 22
    }
   ],
   "source": [
    "dfs_labels = []\n",
    "\"\"\"\n",
    "for _, game in tqdm(df_games.iterrows(), total=len(df_games)):\n",
    "    game_id = game['game_id']\n",
    "    df_labels = pd.read_hdf()\n",
    "\"\"\""
   ]
  }
 ]
}