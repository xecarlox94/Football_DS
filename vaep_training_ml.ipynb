{
 "metadata": {
  "language_info": {
   "codemirror_mode": {
    "name": "ipython",
    "version": 3
   },
   "file_extension": ".py",
   "mimetype": "text/x-python",
   "name": "python",
   "nbconvert_exporter": "python",
   "pygments_lexer": "ipython3",
   "version": "3.8.3-final"
  },
  "orig_nbformat": 2,
  "kernelspec": {
   "name": "python38364bit88793c7347b34f2aaf15ee9ecb7c5f7a",
   "display_name": "Python 3.8.3 64-bit"
  }
 },
 "nbformat": 4,
 "nbformat_minor": 2,
 "cells": [
  {
   "cell_type": "code",
   "execution_count": 23,
   "metadata": {},
   "outputs": [],
   "source": [
    "import pandas as pd\n",
    "import numpy as np\n",
    "from tqdm.notebook import tqdm\n",
    "import matplotlib.pyplot as plt\n",
    "\n",
    "%matplotlib inline"
   ]
  },
  {
   "cell_type": "code",
   "execution_count": 24,
   "metadata": {},
   "outputs": [],
   "source": [
    "from xgboost import XGBClassifier\n",
    "from sklearn.metrics import brier_score_loss, roc_auc_score\n",
    "from sklearn.model_selection import train_test_split, GridSearchCV\n",
    "from sklearn.calibration import CalibratedClassifierCV\n",
    "from scikitplot.metrics import plot_calibration_curve"
   ]
  },
  {
   "cell_type": "code",
   "execution_count": 25,
   "metadata": {},
   "outputs": [],
   "source": [
    "import warnings\n",
    "warnings.filterwarnings('ignore', category=pd.io.pytables.PerformanceWarning)"
   ]
  },
  {
   "cell_type": "code",
   "execution_count": 26,
   "metadata": {},
   "outputs": [],
   "source": [
    "import os\n",
    "data_dir = os.getcwd() + '/data/wy_scout/'"
   ]
  },
  {
   "cell_type": "code",
   "execution_count": 27,
   "metadata": {},
   "outputs": [
    {
     "output_type": "execute_result",
     "data": {
      "text/plain": "    game_id  competition_id  season_id            game_date  home_team_id  \\\n54  2057984              28      10078  2018-06-17 15:00:00          3148   \n55  2057979              28      10078  2018-06-17 12:00:00         16871   \n56  2057973              28      10078  2018-06-16 19:00:00          9598   \n57  2057967              28      10078  2018-06-16 16:00:00         15594   \n58  2057972              28      10078  2018-06-16 13:00:00         12274   \n59  2057966              28      10078  2018-06-16 10:00:00          4418   \n60  2057960              28      10078  2018-06-15 18:00:00          9905   \n61  2057961              28      10078  2018-06-15 15:00:00         16216   \n62  2057955              28      10078  2018-06-15 12:00:00         16129   \n63  2057954              28      10078  2018-06-14 15:00:00         14358   \n\n    away_team_id  \n54         15473  \n55         17322  \n56         16823  \n57          7712  \n58          7839  \n59          8493  \n60          1598  \n61         10840  \n62         15670  \n63         16521  ",
      "text/html": "<div>\n<style scoped>\n    .dataframe tbody tr th:only-of-type {\n        vertical-align: middle;\n    }\n\n    .dataframe tbody tr th {\n        vertical-align: top;\n    }\n\n    .dataframe thead th {\n        text-align: right;\n    }\n</style>\n<table border=\"1\" class=\"dataframe\">\n  <thead>\n    <tr style=\"text-align: right;\">\n      <th></th>\n      <th>game_id</th>\n      <th>competition_id</th>\n      <th>season_id</th>\n      <th>game_date</th>\n      <th>home_team_id</th>\n      <th>away_team_id</th>\n    </tr>\n  </thead>\n  <tbody>\n    <tr>\n      <th>54</th>\n      <td>2057984</td>\n      <td>28</td>\n      <td>10078</td>\n      <td>2018-06-17 15:00:00</td>\n      <td>3148</td>\n      <td>15473</td>\n    </tr>\n    <tr>\n      <th>55</th>\n      <td>2057979</td>\n      <td>28</td>\n      <td>10078</td>\n      <td>2018-06-17 12:00:00</td>\n      <td>16871</td>\n      <td>17322</td>\n    </tr>\n    <tr>\n      <th>56</th>\n      <td>2057973</td>\n      <td>28</td>\n      <td>10078</td>\n      <td>2018-06-16 19:00:00</td>\n      <td>9598</td>\n      <td>16823</td>\n    </tr>\n    <tr>\n      <th>57</th>\n      <td>2057967</td>\n      <td>28</td>\n      <td>10078</td>\n      <td>2018-06-16 16:00:00</td>\n      <td>15594</td>\n      <td>7712</td>\n    </tr>\n    <tr>\n      <th>58</th>\n      <td>2057972</td>\n      <td>28</td>\n      <td>10078</td>\n      <td>2018-06-16 13:00:00</td>\n      <td>12274</td>\n      <td>7839</td>\n    </tr>\n    <tr>\n      <th>59</th>\n      <td>2057966</td>\n      <td>28</td>\n      <td>10078</td>\n      <td>2018-06-16 10:00:00</td>\n      <td>4418</td>\n      <td>8493</td>\n    </tr>\n    <tr>\n      <th>60</th>\n      <td>2057960</td>\n      <td>28</td>\n      <td>10078</td>\n      <td>2018-06-15 18:00:00</td>\n      <td>9905</td>\n      <td>1598</td>\n    </tr>\n    <tr>\n      <th>61</th>\n      <td>2057961</td>\n      <td>28</td>\n      <td>10078</td>\n      <td>2018-06-15 15:00:00</td>\n      <td>16216</td>\n      <td>10840</td>\n    </tr>\n    <tr>\n      <th>62</th>\n      <td>2057955</td>\n      <td>28</td>\n      <td>10078</td>\n      <td>2018-06-15 12:00:00</td>\n      <td>16129</td>\n      <td>15670</td>\n    </tr>\n    <tr>\n      <th>63</th>\n      <td>2057954</td>\n      <td>28</td>\n      <td>10078</td>\n      <td>2018-06-14 15:00:00</td>\n      <td>14358</td>\n      <td>16521</td>\n    </tr>\n  </tbody>\n</table>\n</div>"
     },
     "metadata": {},
     "execution_count": 27
    }
   ],
   "source": [
    "df_games = pd.read_hdf(data_dir + 'spadl.h5', 'games')\n",
    "df_games.tail(10)"
   ]
  },
  {
   "cell_type": "code",
   "execution_count": 28,
   "metadata": {
    "tags": []
   },
   "outputs": [
    {
     "output_type": "display_data",
     "data": {
      "text/plain": "HBox(children=(FloatProgress(value=0.0, max=64.0), HTML(value='')))",
      "application/vnd.jupyter.widget-view+json": {
       "version_major": 2,
       "version_minor": 0,
       "model_id": "eab8cfe83e204c669288ef67d6921e48"
      }
     },
     "metadata": {}
    },
    {
     "output_type": "stream",
     "name": "stdout",
     "text": "\n"
    },
    {
     "output_type": "execute_result",
     "data": {
      "text/plain": "       type_pass_a0  type_cross_a0  type_throw_in_a0  \\\n80969         False          False             False   \n80970          True          False             False   \n80971          True          False             False   \n80972         False          False             False   \n80973          True          False             False   \n80974          True          False             False   \n80975         False          False             False   \n80976         False          False             False   \n80977         False          False             False   \n80978          True          False             False   \n\n       type_freekick_crossed_a0  type_freekick_short_a0  \\\n80969                     False                   False   \n80970                     False                   False   \n80971                     False                   False   \n80972                     False                   False   \n80973                     False                   False   \n80974                     False                   False   \n80975                     False                   False   \n80976                     False                   False   \n80977                     False                   False   \n80978                     False                   False   \n\n       type_corner_crossed_a0  type_corner_short_a0  type_take_on_a0  \\\n80969                   False                 False            False   \n80970                   False                 False            False   \n80971                   False                 False            False   \n80972                   False                 False            False   \n80973                   False                 False            False   \n80974                   False                 False            False   \n80975                   False                 False            False   \n80976                   False                 False            False   \n80977                   False                 False            False   \n80978                   False                 False            False   \n\n       type_foul_a0  type_tackle_a0  ...  end_angle_to_goal_a0  \\\n80969         False            True  ...              0.088083   \n80970         False           False  ...              0.313155   \n80971         False           False  ...              0.163867   \n80972         False           False  ...              0.284537   \n80973         False           False  ...              0.485553   \n80974         False           False  ...              0.532102   \n80975         False            True  ...              0.108906   \n80976          True           False  ...              0.108906   \n80977         False           False  ...              1.570796   \n80978         False           False  ...              1.570796   \n\n       end_dist_to_goal_a1  end_angle_to_goal_a1  end_dist_to_goal_a2  \\\n80969            46.801607              0.160512            38.019553   \n80970            46.379806              0.088083            46.801607   \n80971            37.524973              0.313155            46.379806   \n80972            50.020077              0.163867            37.524973   \n80973            33.913609              0.284537            50.020077   \n80974            32.055017              0.485553            33.913609   \n80975            83.021503              0.164555            78.096249   \n80976            81.331839              0.108906            83.021503   \n80977            25.717078              0.350897            25.717078   \n80978           105.055033              0.032370            81.331839   \n\n       end_angle_to_goal_a2  team_1  team_2  time_delta_1  time_delta_2  \\\n80969              0.107520    True    True      3.724954      5.269374   \n80970              0.160512    True    True      1.175848      4.900802   \n80971              0.088083    True    True      1.412850      2.588698   \n80972              0.313155    True    True      1.416485      2.829335   \n80973              0.163867    True    True      1.416484      2.832969   \n80974              0.284537    True    True      2.531683      3.948167   \n80975              0.192750   False   False      2.483783      5.015466   \n80976              0.164555    True   False      1.862786      4.346569   \n80977              0.350897   False   False     66.594979     68.457765   \n80978              0.108906   False    True     43.943937    110.538916   \n\n       game_id  \n80969  2057954  \n80970  2057954  \n80971  2057954  \n80972  2057954  \n80973  2057954  \n80974  2057954  \n80975  2057954  \n80976  2057954  \n80977  2057954  \n80978  2057954  \n\n[10 rows x 143 columns]",
      "text/html": "<div>\n<style scoped>\n    .dataframe tbody tr th:only-of-type {\n        vertical-align: middle;\n    }\n\n    .dataframe tbody tr th {\n        vertical-align: top;\n    }\n\n    .dataframe thead th {\n        text-align: right;\n    }\n</style>\n<table border=\"1\" class=\"dataframe\">\n  <thead>\n    <tr style=\"text-align: right;\">\n      <th></th>\n      <th>type_pass_a0</th>\n      <th>type_cross_a0</th>\n      <th>type_throw_in_a0</th>\n      <th>type_freekick_crossed_a0</th>\n      <th>type_freekick_short_a0</th>\n      <th>type_corner_crossed_a0</th>\n      <th>type_corner_short_a0</th>\n      <th>type_take_on_a0</th>\n      <th>type_foul_a0</th>\n      <th>type_tackle_a0</th>\n      <th>...</th>\n      <th>end_angle_to_goal_a0</th>\n      <th>end_dist_to_goal_a1</th>\n      <th>end_angle_to_goal_a1</th>\n      <th>end_dist_to_goal_a2</th>\n      <th>end_angle_to_goal_a2</th>\n      <th>team_1</th>\n      <th>team_2</th>\n      <th>time_delta_1</th>\n      <th>time_delta_2</th>\n      <th>game_id</th>\n    </tr>\n  </thead>\n  <tbody>\n    <tr>\n      <th>80969</th>\n      <td>False</td>\n      <td>False</td>\n      <td>False</td>\n      <td>False</td>\n      <td>False</td>\n      <td>False</td>\n      <td>False</td>\n      <td>False</td>\n      <td>False</td>\n      <td>True</td>\n      <td>...</td>\n      <td>0.088083</td>\n      <td>46.801607</td>\n      <td>0.160512</td>\n      <td>38.019553</td>\n      <td>0.107520</td>\n      <td>True</td>\n      <td>True</td>\n      <td>3.724954</td>\n      <td>5.269374</td>\n      <td>2057954</td>\n    </tr>\n    <tr>\n      <th>80970</th>\n      <td>True</td>\n      <td>False</td>\n      <td>False</td>\n      <td>False</td>\n      <td>False</td>\n      <td>False</td>\n      <td>False</td>\n      <td>False</td>\n      <td>False</td>\n      <td>False</td>\n      <td>...</td>\n      <td>0.313155</td>\n      <td>46.379806</td>\n      <td>0.088083</td>\n      <td>46.801607</td>\n      <td>0.160512</td>\n      <td>True</td>\n      <td>True</td>\n      <td>1.175848</td>\n      <td>4.900802</td>\n      <td>2057954</td>\n    </tr>\n    <tr>\n      <th>80971</th>\n      <td>True</td>\n      <td>False</td>\n      <td>False</td>\n      <td>False</td>\n      <td>False</td>\n      <td>False</td>\n      <td>False</td>\n      <td>False</td>\n      <td>False</td>\n      <td>False</td>\n      <td>...</td>\n      <td>0.163867</td>\n      <td>37.524973</td>\n      <td>0.313155</td>\n      <td>46.379806</td>\n      <td>0.088083</td>\n      <td>True</td>\n      <td>True</td>\n      <td>1.412850</td>\n      <td>2.588698</td>\n      <td>2057954</td>\n    </tr>\n    <tr>\n      <th>80972</th>\n      <td>False</td>\n      <td>False</td>\n      <td>False</td>\n      <td>False</td>\n      <td>False</td>\n      <td>False</td>\n      <td>False</td>\n      <td>False</td>\n      <td>False</td>\n      <td>False</td>\n      <td>...</td>\n      <td>0.284537</td>\n      <td>50.020077</td>\n      <td>0.163867</td>\n      <td>37.524973</td>\n      <td>0.313155</td>\n      <td>True</td>\n      <td>True</td>\n      <td>1.416485</td>\n      <td>2.829335</td>\n      <td>2057954</td>\n    </tr>\n    <tr>\n      <th>80973</th>\n      <td>True</td>\n      <td>False</td>\n      <td>False</td>\n      <td>False</td>\n      <td>False</td>\n      <td>False</td>\n      <td>False</td>\n      <td>False</td>\n      <td>False</td>\n      <td>False</td>\n      <td>...</td>\n      <td>0.485553</td>\n      <td>33.913609</td>\n      <td>0.284537</td>\n      <td>50.020077</td>\n      <td>0.163867</td>\n      <td>True</td>\n      <td>True</td>\n      <td>1.416484</td>\n      <td>2.832969</td>\n      <td>2057954</td>\n    </tr>\n    <tr>\n      <th>80974</th>\n      <td>True</td>\n      <td>False</td>\n      <td>False</td>\n      <td>False</td>\n      <td>False</td>\n      <td>False</td>\n      <td>False</td>\n      <td>False</td>\n      <td>False</td>\n      <td>False</td>\n      <td>...</td>\n      <td>0.532102</td>\n      <td>32.055017</td>\n      <td>0.485553</td>\n      <td>33.913609</td>\n      <td>0.284537</td>\n      <td>True</td>\n      <td>True</td>\n      <td>2.531683</td>\n      <td>3.948167</td>\n      <td>2057954</td>\n    </tr>\n    <tr>\n      <th>80975</th>\n      <td>False</td>\n      <td>False</td>\n      <td>False</td>\n      <td>False</td>\n      <td>False</td>\n      <td>False</td>\n      <td>False</td>\n      <td>False</td>\n      <td>False</td>\n      <td>True</td>\n      <td>...</td>\n      <td>0.108906</td>\n      <td>83.021503</td>\n      <td>0.164555</td>\n      <td>78.096249</td>\n      <td>0.192750</td>\n      <td>False</td>\n      <td>False</td>\n      <td>2.483783</td>\n      <td>5.015466</td>\n      <td>2057954</td>\n    </tr>\n    <tr>\n      <th>80976</th>\n      <td>False</td>\n      <td>False</td>\n      <td>False</td>\n      <td>False</td>\n      <td>False</td>\n      <td>False</td>\n      <td>False</td>\n      <td>False</td>\n      <td>True</td>\n      <td>False</td>\n      <td>...</td>\n      <td>0.108906</td>\n      <td>81.331839</td>\n      <td>0.108906</td>\n      <td>83.021503</td>\n      <td>0.164555</td>\n      <td>True</td>\n      <td>False</td>\n      <td>1.862786</td>\n      <td>4.346569</td>\n      <td>2057954</td>\n    </tr>\n    <tr>\n      <th>80977</th>\n      <td>False</td>\n      <td>False</td>\n      <td>False</td>\n      <td>False</td>\n      <td>False</td>\n      <td>False</td>\n      <td>False</td>\n      <td>False</td>\n      <td>False</td>\n      <td>False</td>\n      <td>...</td>\n      <td>1.570796</td>\n      <td>25.717078</td>\n      <td>0.350897</td>\n      <td>25.717078</td>\n      <td>0.350897</td>\n      <td>False</td>\n      <td>False</td>\n      <td>66.594979</td>\n      <td>68.457765</td>\n      <td>2057954</td>\n    </tr>\n    <tr>\n      <th>80978</th>\n      <td>True</td>\n      <td>False</td>\n      <td>False</td>\n      <td>False</td>\n      <td>False</td>\n      <td>False</td>\n      <td>False</td>\n      <td>False</td>\n      <td>False</td>\n      <td>False</td>\n      <td>...</td>\n      <td>1.570796</td>\n      <td>105.055033</td>\n      <td>0.032370</td>\n      <td>81.331839</td>\n      <td>0.108906</td>\n      <td>False</td>\n      <td>True</td>\n      <td>43.943937</td>\n      <td>110.538916</td>\n      <td>2057954</td>\n    </tr>\n  </tbody>\n</table>\n<p>10 rows × 143 columns</p>\n</div>"
     },
     "metadata": {},
     "execution_count": 28
    }
   ],
   "source": [
    "dfs_features = []\n",
    "for _, game in tqdm(df_games.iterrows(), total=len(df_games)):\n",
    "    game_id = game['game_id']\n",
    "    df_features = pd.read_hdf(data_dir + 'features.h5', key=f'game_{game_id}')\n",
    "    df_features['game_id'] = game_id\n",
    "    dfs_features.append(df_features)\n",
    "df_features = pd.concat(dfs_features).reset_index(drop=True)\n",
    "df_features.tail(10)"
   ]
  },
  {
   "cell_type": "code",
   "execution_count": 29,
   "metadata": {},
   "outputs": [
    {
     "output_type": "execute_result",
     "data": {
      "text/plain": "\"\\nfor _, game in tqdm(df_games.iterrows(), total=len(df_games)):\\n    game_id = game['game_id']\\n    df_labels = pd.read_hdf()\\n\""
     },
     "metadata": {},
     "execution_count": 29
    }
   ],
   "source": [
    "dfs_labels = []\n",
    "\"\"\"\n",
    "for _, game in tqdm(df_games.iterrows(), total=len(df_games)):\n",
    "    game_id = game['game_id']\n",
    "    df_labels = pd.read_hdf()\n",
    "\"\"\""
   ]
  }
 ]
}